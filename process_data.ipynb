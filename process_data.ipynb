{
 "cells": [
  {
   "cell_type": "code",
   "execution_count": 7,
   "metadata": {},
   "outputs": [
    {
     "name": "stdout",
     "output_type": "stream",
     "text": [
      "m_sensor_data_2023_09_01_d170124_s20.csv (71, 17)\n",
      "m_sensor_data_2023_09_01_d243829_s20.csv (30, 17)\n"
     ]
    },
    {
     "name": "stderr",
     "output_type": "stream",
     "text": [
      "/tmp/ipykernel_1020675/2038842829.py:19: DtypeWarning: Columns (13) have mixed types. Specify dtype option on import or set low_memory=False.\n",
      "  df = pd.read_csv(csv_path)\n"
     ]
    },
    {
     "name": "stdout",
     "output_type": "stream",
     "text": [
      "m_sensor_data_2023_09_01_d226520_s20.csv (165, 17)\n"
     ]
    },
    {
     "name": "stderr",
     "output_type": "stream",
     "text": [
      "/tmp/ipykernel_1020675/2038842829.py:19: DtypeWarning: Columns (13) have mixed types. Specify dtype option on import or set low_memory=False.\n",
      "  df = pd.read_csv(csv_path)\n"
     ]
    },
    {
     "name": "stdout",
     "output_type": "stream",
     "text": [
      "m_sensor_data_2023_05_01_d235386_s20.csv (40, 17)\n",
      "m_sensor_data_2023_04_01_d208424_s20.csv (0, 17)\n",
      "m_sensor_data_2023_09_01_d208630_s20.csv (399, 17)\n",
      "m_sensor_data_2023_04_01_d235386_s20.csv (1162, 17)\n"
     ]
    },
    {
     "name": "stderr",
     "output_type": "stream",
     "text": [
      "/tmp/ipykernel_1020675/2038842829.py:19: DtypeWarning: Columns (13) have mixed types. Specify dtype option on import or set low_memory=False.\n",
      "  df = pd.read_csv(csv_path)\n"
     ]
    },
    {
     "name": "stdout",
     "output_type": "stream",
     "text": [
      "m_sensor_data_2023_09_01_d263650_s20.csv (4, 17)\n",
      "m_sensor_data_2023_04_01_d199535_s20.csv (150, 17)\n"
     ]
    },
    {
     "name": "stderr",
     "output_type": "stream",
     "text": [
      "/tmp/ipykernel_1020675/2038842829.py:19: DtypeWarning: Columns (13) have mixed types. Specify dtype option on import or set low_memory=False.\n",
      "  df = pd.read_csv(csv_path)\n"
     ]
    },
    {
     "name": "stdout",
     "output_type": "stream",
     "text": [
      "m_sensor_data_2023_09_01_d208424_s20.csv (0, 17)\n",
      "m_sensor_data_2023_04_01_d263650_s20.csv (0, 17)\n"
     ]
    },
    {
     "name": "stderr",
     "output_type": "stream",
     "text": [
      "/tmp/ipykernel_1020675/2038842829.py:19: DtypeWarning: Columns (13) have mixed types. Specify dtype option on import or set low_memory=False.\n",
      "  df = pd.read_csv(csv_path)\n"
     ]
    },
    {
     "name": "stdout",
     "output_type": "stream",
     "text": [
      "m_sensor_data_2023_05_01_d199535_s20.csv (9, 17)\n"
     ]
    },
    {
     "name": "stderr",
     "output_type": "stream",
     "text": [
      "/tmp/ipykernel_1020675/2038842829.py:19: DtypeWarning: Columns (13) have mixed types. Specify dtype option on import or set low_memory=False.\n",
      "  df = pd.read_csv(csv_path)\n"
     ]
    },
    {
     "name": "stdout",
     "output_type": "stream",
     "text": [
      "m_sensor_data_2023_05_01_d232794_s20.csv (44, 17)\n",
      "m_sensor_data_2023_06_01_d263650_s20.csv (0, 17)\n"
     ]
    },
    {
     "name": "stderr",
     "output_type": "stream",
     "text": [
      "/tmp/ipykernel_1020675/2038842829.py:19: DtypeWarning: Columns (13) have mixed types. Specify dtype option on import or set low_memory=False.\n",
      "  df = pd.read_csv(csv_path)\n"
     ]
    },
    {
     "name": "stdout",
     "output_type": "stream",
     "text": [
      "m_sensor_data_2023_04_01_d232794_s20.csv (60, 17)\n",
      "m_sensor_data_2023_05_01_d208424_s20.csv (0, 17)\n",
      "m_sensor_data_2023_09_01_d231443_s20.csv (930, 17)\n",
      "m_sensor_data_2023_06_01_d231783_s20.csv (0, 17)\n"
     ]
    },
    {
     "name": "stderr",
     "output_type": "stream",
     "text": [
      "/tmp/ipykernel_1020675/2038842829.py:19: DtypeWarning: Columns (13) have mixed types. Specify dtype option on import or set low_memory=False.\n",
      "  df = pd.read_csv(csv_path)\n"
     ]
    },
    {
     "name": "stdout",
     "output_type": "stream",
     "text": [
      "m_sensor_data_2023_05_01_d263650_s20.csv (108, 17)\n",
      "m_sensor_data_2023_09_01_d223935_s20.csv (1726, 17)\n",
      "m_sensor_data_2023_06_01_d235386_s20.csv (705, 17)\n"
     ]
    },
    {
     "name": "stderr",
     "output_type": "stream",
     "text": [
      "/tmp/ipykernel_1020675/2038842829.py:19: DtypeWarning: Columns (13) have mixed types. Specify dtype option on import or set low_memory=False.\n",
      "  df = pd.read_csv(csv_path)\n"
     ]
    },
    {
     "name": "stdout",
     "output_type": "stream",
     "text": [
      "m_sensor_data_2023_06_01_d208424_s20.csv (0, 17)\n"
     ]
    }
   ],
   "source": [
    "import os\n",
    "import pandas as pd\n",
    "from tqdm import tqdm\n",
    "# CSV文件夹路径\n",
    "csv_folder = 'processed_data/data'\n",
    "# Excel文件路径\n",
    "targer_file = 'processed_data/data_all_2023-11-15.csv'\n",
    "\n",
    "\n",
    "# 获取CSV文件夹下的所有CSV文件路径和名称\n",
    "csv_files = [file for file in os.listdir(csv_folder) if file.endswith('.csv')]\n",
    "\n",
    "selected_rows = pd.read_csv('processed_data/data3.csv')\n",
    "\n",
    "# 针对每个CSV文件进行处理\n",
    "for csv_file in csv_files:\n",
    "    csv_path = os.path.join(csv_folder, csv_file)\n",
    "    # 读取CSV文件\n",
    "    df = pd.read_csv(csv_path)\n",
    "    # 按条件筛选行\n",
    "    selected_df = df[df['Flag'].isin(['F05,', 'F14,','F09,', 'F10,', 'F17,'])]\n",
    "    # print(selected_df)\n",
    "    # 将选中的行数据添加到结果DataFrame中\n",
    "    selected_rows = pd.concat([selected_rows, selected_df])\n",
    "    print(csv_file, selected_df.shape)\n",
    "\n",
    "selected_rows.to_csv(targer_file, index=False)\n"
   ]
  },
  {
   "cell_type": "code",
   "execution_count": 1,
   "metadata": {},
   "outputs": [
    {
     "data": {
      "text/plain": [
       "(68837, 18)"
      ]
     },
     "execution_count": 1,
     "metadata": {},
     "output_type": "execute_result"
    }
   ],
   "source": [
    "import os\n",
    "import pandas as pd\n",
    "from tqdm import tqdm\n",
    "df=pd.read_csv('processed_data/data_all_2023-11-15.csv')\n",
    "df.shape"
   ]
  },
  {
   "cell_type": "code",
   "execution_count": 2,
   "metadata": {},
   "outputs": [],
   "source": [
    "df4=df[df['Flag'].isna()][:df[df.Flag=='F14,'].shape[0]*4]\n",
    "df5=df[(df['Flag']=='F09,') | (df['Flag']=='F10,') | (df['Flag']=='F17,') | (df['Flag']=='F14,') | (df['Flag']=='F05,')]\n",
    "df_all=pd.concat([df4,df5])"
   ]
  },
  {
   "cell_type": "code",
   "execution_count": 3,
   "metadata": {},
   "outputs": [
    {
     "data": {
      "text/plain": [
       "(15185, 18)"
      ]
     },
     "execution_count": 3,
     "metadata": {},
     "output_type": "execute_result"
    }
   ],
   "source": [
    "df_all.shape"
   ]
  },
  {
   "cell_type": "code",
   "execution_count": 4,
   "metadata": {},
   "outputs": [
    {
     "data": {
      "text/plain": [
       "Flag\n",
       "F14,    2317\n",
       "F17,    1819\n",
       "F09,    1403\n",
       "F05,     225\n",
       "F10,     153\n",
       "Name: count, dtype: int64"
      ]
     },
     "execution_count": 4,
     "metadata": {},
     "output_type": "execute_result"
    }
   ],
   "source": [
    "df.Flag.value_counts()"
   ]
  },
  {
   "cell_type": "code",
   "execution_count": 5,
   "metadata": {},
   "outputs": [],
   "source": [
    "df_all.to_csv('processed_data/data_imbal_23_11_15.csv', index=False)"
   ]
  },
  {
   "cell_type": "code",
   "execution_count": 6,
   "metadata": {},
   "outputs": [
    {
     "data": {
      "text/plain": [
       "(15185, 18)"
      ]
     },
     "execution_count": 6,
     "metadata": {},
     "output_type": "execute_result"
    }
   ],
   "source": [
    "import pandas as pd\n",
    "data=pd.read_csv('processed_data/data_imbal_23_11_15.csv')\n",
    "data.shape"
   ]
  },
  {
   "cell_type": "code",
   "execution_count": 7,
   "metadata": {},
   "outputs": [
    {
     "data": {
      "text/plain": [
       "Flag\n",
       "F14,    2317\n",
       "F17,    1819\n",
       "F09,    1403\n",
       "F05,     225\n",
       "F10,     153\n",
       "Name: count, dtype: int64"
      ]
     },
     "execution_count": 7,
     "metadata": {},
     "output_type": "execute_result"
    }
   ],
   "source": [
    "data.value_counts('Flag')"
   ]
  },
  {
   "cell_type": "code",
   "execution_count": null,
   "metadata": {},
   "outputs": [],
   "source": []
  }
 ],
 "metadata": {
  "kernelspec": {
   "display_name": "elevator",
   "language": "python",
   "name": "python3"
  },
  "language_info": {
   "codemirror_mode": {
    "name": "ipython",
    "version": 3
   },
   "file_extension": ".py",
   "mimetype": "text/x-python",
   "name": "python",
   "nbconvert_exporter": "python",
   "pygments_lexer": "ipython3",
   "version": "3.8.17"
  },
  "orig_nbformat": 4
 },
 "nbformat": 4,
 "nbformat_minor": 2
}
